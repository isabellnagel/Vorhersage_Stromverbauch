{
 "cells": [
  {
   "cell_type": "code",
   "execution_count": 1,
   "id": "e59afc4b-b9be-4a03-b8cd-717f129efd1d",
   "metadata": {},
   "outputs": [],
   "source": [
    "import pandas as pd\n",
    "import numpy as np\n",
    "import nbimporter\n",
    "from datetime import datetime, timedelta\n",
    "import glob\n",
    "import os\n",
    "import warnings\n",
    "\n",
    "warnings.simplefilter(action='ignore', category=FutureWarning)"
   ]
  },
  {
   "cell_type": "code",
   "execution_count": 2,
   "id": "71e92cf4-7100-4dae-8be6-4157bb98ec22",
   "metadata": {},
   "outputs": [],
   "source": [
    "\n",
    "def correlation_matrix(endresult_df, categorical_columns, cut_off_limit):\n",
    "    columns_to_keep = [col for col in endresult_df.columns if not any(excl in col for excl in categorical_columns)]\n",
    "\n",
    "    df_relevant = endresult_df[columns_to_keep]  \n",
    "    correlation_matrix = df_relevant.corr()\n",
    "    \n",
    "    # Set the size of the figure\n",
    "    plt.figure(figsize=(10, 8))\n",
    "    \n",
    "    # Create the heat map\n",
    "    sns.heatmap(correlation_matrix, annot=True, cmap='coolwarm', fmt='.2f', linewidths=0.5)\n",
    "    \n",
    "    # Add a title\n",
    "    plt.title('Correlation Matrix Heatmap')\n",
    "    \n",
    "    # Show the plot\n",
    "    plt.show()\n",
    "    \n",
    "    target_column = \"Gesamt (Netzlast) [MWh] Originalauflösungen\"\n",
    "    \n",
    "    columns_to_drop = correlation_matrix.index[abs(correlation_matrix[target_column]) < cut_off_limit].tolist()\n",
    "    \n",
    "    # Drop those columns from df_relevant\n",
    "    df_filtered = df_relevant.drop(columns=columns_to_drop)\n",
    "    #print(df_filtered)\n",
    "    # If you want to replot the correlation matrix for the filtered dataframe\n",
    "    filtered_correlation_matrix = df_filtered.corr()\n",
    "    \n",
    "    plt.figure(figsize=(10, 8))\n",
    "    \n",
    "    # Create the heatmap\n",
    "    sns.heatmap(filtered_correlation_matrix, annot=True, cmap='coolwarm', fmt='.2f', linewidths=0.5)\n",
    "    \n",
    "    # Add a title\n",
    "    plt.title('Filtered Correlation Matrix Heatmap')\n",
    "    \n",
    "    # Show the plot\n",
    "    plt.show()\n",
    "\n",
    "    df_end = endresult_df.drop(columns=columns_to_drop)\n",
    "    return df_end"
   ]
  },
  {
   "cell_type": "code",
   "execution_count": null,
   "id": "e2b88251-e830-4674-8400-b8cd90781d14",
   "metadata": {},
   "outputs": [],
   "source": []
  }
 ],
 "metadata": {
  "kernelspec": {
   "display_name": "Python 3 (ipykernel)",
   "language": "python",
   "name": "python3"
  },
  "language_info": {
   "codemirror_mode": {
    "name": "ipython",
    "version": 3
   },
   "file_extension": ".py",
   "mimetype": "text/x-python",
   "name": "python",
   "nbconvert_exporter": "python",
   "pygments_lexer": "ipython3",
   "version": "3.11.7"
  }
 },
 "nbformat": 4,
 "nbformat_minor": 5
}

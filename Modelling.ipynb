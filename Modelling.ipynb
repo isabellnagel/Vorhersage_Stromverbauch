{
 "cells": [
  {
   "cell_type": "code",
   "execution_count": 2,
   "id": "323d7ce4-8e0d-48dd-9b0c-df38beeb4496",
   "metadata": {},
   "outputs": [],
   "source": [
    "import pandas as pd\n",
    "import numpy as np\n",
    "import nbimporter\n",
    "from datetime import datetime, timedelta\n",
    "import glob\n",
    "import os\n",
    "import warnings\n",
    "from sklearn.model_selection import TimeSeriesSplit\n",
    "from sklearn.preprocessing import MinMaxScaler\n",
    "from tensorflow.keras.models import Sequential\n",
    "from tensorflow.keras.layers import LSTM, Dense, Dropout\n",
    "from tensorflow.keras.callbacks import EarlyStopping\n",
    "from tensorflow.keras.regularizers import l2\n",
    "from tensorflow.keras.optimizers import Adam\n",
    "\n",
    "warnings.simplefilter(action='ignore', category=FutureWarning)"
   ]
  },
  {
   "cell_type": "markdown",
   "id": "c8bdc9fd-e037-4ac6-933b-0d573c8f54fd",
   "metadata": {},
   "source": [
    "# 1. LSTM"
   ]
  },
  {
   "cell_type": "markdown",
   "id": "253b4a5d-4cf3-4030-acd0-52a0367466a4",
   "metadata": {},
   "source": [
    "## Creating Sequences"
   ]
  },
  {
   "cell_type": "code",
   "execution_count": 1,
   "id": "e0b5b049-643a-43d4-9e18-7a3ede278135",
   "metadata": {},
   "outputs": [],
   "source": [
    "def create_sequences(data, target, sequence_length):\n",
    "    sequences = []\n",
    "    labels = []\n",
    "    \n",
    "    for i in range(len(data) - sequence_length):\n",
    "        seq = data[i:i + sequence_length]  # Input sequence\n",
    "        label = target[i + sequence_length]  # Target value following the sequence\n",
    "        sequences.append(seq)\n",
    "        labels.append(label)\n",
    "    \n",
    "    return np.array(sequences), np.array(labels)"
   ]
  },
  {
   "cell_type": "markdown",
   "id": "756ba44d-4458-4973-abf2-410b030e6b4a",
   "metadata": {},
   "source": [
    "## Modell aufsetzen"
   ]
  },
  {
   "cell_type": "code",
   "execution_count": 3,
   "id": "97238d43-6f3d-419a-bc83-bc575d45b3b5",
   "metadata": {},
   "outputs": [],
   "source": [
    "def lstm_model(X_train, X_test,y_train, y_test, layers, epochs, regularization, dropout, learning_rate, early_stopping):\n",
    "\n",
    "    model = Sequential()\n",
    "   #model.add(LSTM(50, return_sequences=True, input_shape=(X_train.shape[1], X_train.shape[2])))\n",
    "    model.add(LSTM(layers, return_sequences=True, input_shape=(X_train.shape[1], X_train.shape[2]),\n",
    "                   kernel_regularizer=l2(regularization)))\n",
    "    #model.add(Dropout(0.2))\n",
    "    model.add(Dropout(dropout))\n",
    "    #model.add(LSTM(50, return_sequences=False))\n",
    "    model.add(LSTM(layers, return_sequences=False, kernel_regularizer=l2(regularization)))\n",
    "    #model.add(Dropout(0.2))\n",
    "    model.add(Dropout(dropout))\n",
    "    #model.add(Dense(25))\n",
    "    model.add(Dense(25, activation='relu', kernel_regularizer=l2(regularization))) \n",
    "    model.add(Dense(1))\n",
    "\n",
    "    optimizer = Adam(learning_rate=learning_rate)\n",
    "    #model.compile(optimizer='adam', loss='mean_squared_error')\n",
    "    model.compile(optimizer=optimizer, loss='mean_squared_error')\n",
    "    \n",
    "    # Fit the model\n",
    "    early_stopping = EarlyStopping(monitor='val_loss', patience=early_stopping, restore_best_weights=True)\n",
    "    lstm_model = model.fit(X_train, y_train, epochs=epochs, batch_size=20, validation_data=(X_test, y_test),\n",
    "                        callbacks=[early_stopping], verbose=1)\n",
    "    return lstm_model, model"
   ]
  },
  {
   "cell_type": "code",
   "execution_count": null,
   "id": "ec09822c-3ea7-446f-ad74-8dcad7b93369",
   "metadata": {},
   "outputs": [],
   "source": []
  }
 ],
 "metadata": {
  "kernelspec": {
   "display_name": "Python 3 (ipykernel)",
   "language": "python",
   "name": "python3"
  },
  "language_info": {
   "codemirror_mode": {
    "name": "ipython",
    "version": 3
   },
   "file_extension": ".py",
   "mimetype": "text/x-python",
   "name": "python",
   "nbconvert_exporter": "python",
   "pygments_lexer": "ipython3",
   "version": "3.11.7"
  }
 },
 "nbformat": 4,
 "nbformat_minor": 5
}

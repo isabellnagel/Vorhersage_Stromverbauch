{
 "cells": [
  {
   "cell_type": "code",
   "execution_count": 1,
   "id": "ff525534-a2bc-4cf2-aa31-06d07d01b670",
   "metadata": {},
   "outputs": [],
   "source": [
    "import pandas as pd\n",
    "import numpy as np\n",
    "import seaborn as sns\n",
    "import matplotlib.pyplot as plt"
   ]
  },
  {
   "cell_type": "code",
   "execution_count": 1,
   "id": "22b1de73-8af7-484f-8e62-e69abed6466a",
   "metadata": {},
   "outputs": [],
   "source": [
    "def plot_two_lines(first_data, second_data, xaxis_data, first_label, second_label, title, xaxis, yaxis):\n",
    "    \"\"\"\n",
    "    Zeichnet zwei Linien im gleichen Diagramm.\n",
    "\n",
    "    Parameter:\n",
    "    first_data (array-ähnlich): Daten für die erste Linie, die auf der y-Achse dargestellt werden.\n",
    "    second_data (array-ähnlich): Daten für die zweite Linie, die auf der y-Achse dargestellt werden.\n",
    "    xaxis_data (array-ähnlich): Daten für die x-Achse (gemeinsam für beide Linien).\n",
    "    first_label (str): Beschriftung für die erste Linie (wird in der Legende verwendet).\n",
    "    second_label (str): Beschriftung für die zweite Linie (wird in der Legende verwendet).\n",
    "    title (str): Titel des Diagramms.\n",
    "    xaxis (str): Beschriftung der x-Achse.\n",
    "    yaxis (str): Beschriftung der y-Achse.\n",
    "\n",
    "    Rückgabewert:\n",
    "    matplotlib.pyplot: Das erstellte Diagramm.\n",
    "    \"\"\"\n",
    "    \n",
    "    # Erstellen einer neuen Figur mit einer festgelegten Größe (12x6)\n",
    "    plt.figure(figsize=(12, 6))\n",
    "    \n",
    "    # Plotten der ersten Linie mit den x-Werten aus 'xaxis_data' und den y-Werten aus 'first_data'.\n",
    "    # Die Farbe der Linie ist blau, und die Breite beträgt 2.\n",
    "    plt.plot(xaxis_data, first_data, label=first_label, color='blue', linewidth=2)\n",
    "    \n",
    "    # Plotten der zweiten Linie mit den gleichen x-Werten aus 'xaxis_data' und den y-Werten aus 'second_data'.\n",
    "    # Die Linie ist rot, hat eine Breite von 2 und wird gestrichelt dargestellt (linestyle='--').\n",
    "    plt.plot(xaxis_data, second_data, label=second_label, color='red', linewidth=2, linestyle='--')\n",
    "    \n",
    "    # Setzen des Titels für das Diagramm\n",
    "    plt.title(title)\n",
    "    \n",
    "    # Hinzufügen einer Legende, die die beiden Labels für die Linien zeigt\n",
    "    plt.legend()\n",
    "    \n",
    "    # Die x-Achsen-Beschriftungen werden um 45 Grad gedreht, um sie lesbarer zu machen\n",
    "    plt.xticks(rotation=45)\n",
    "    \n",
    "    # Beschriften der Achsen\n",
    "    plt.xlabel(xaxis)\n",
    "    plt.ylabel(yaxis)\n",
    "    \n",
    "\n",
    "    return plt\n"
   ]
  },
  {
   "cell_type": "code",
   "execution_count": null,
   "id": "27ad172c-e070-483f-85ff-35e0693d96ce",
   "metadata": {},
   "outputs": [],
   "source": []
  }
 ],
 "metadata": {
  "kernelspec": {
   "display_name": "Python 3 (ipykernel)",
   "language": "python",
   "name": "python3"
  },
  "language_info": {
   "codemirror_mode": {
    "name": "ipython",
    "version": 3
   },
   "file_extension": ".py",
   "mimetype": "text/x-python",
   "name": "python",
   "nbconvert_exporter": "python",
   "pygments_lexer": "ipython3",
   "version": "3.11.7"
  }
 },
 "nbformat": 4,
 "nbformat_minor": 5
}

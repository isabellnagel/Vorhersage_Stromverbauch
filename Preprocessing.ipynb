{
 "cells": [
  {
   "cell_type": "code",
   "execution_count": 35,
   "id": "2056d3bd-fefe-4706-8f9a-5d9832f7ade0",
   "metadata": {},
   "outputs": [],
   "source": [
    "import pandas as pd\n",
    "import numpy as np\n",
    "import nbimporter\n",
    "import feature_engineering\n",
    "from datetime import datetime, timedelta\n",
    "import glob\n",
    "import os\n",
    "import warnings\n",
    "\n",
    "warnings.simplefilter(action='ignore', category=FutureWarning)"
   ]
  },
  {
   "cell_type": "markdown",
   "id": "7d17e6ce-a35d-4086-a639-3adeb298ae3c",
   "metadata": {},
   "source": [
    "## Importing Data"
   ]
  },
  {
   "cell_type": "code",
   "execution_count": 36,
   "id": "0d19296d-8320-4c15-9d73-cf57e4b48352",
   "metadata": {},
   "outputs": [],
   "source": [
    "def importing_data(temp_path, temp_file, column_name, *date_format, football_dataset = False):  \n",
    "    #temp_path =r\"C:\\Users\\Isabell\\EMSI\\emsi_ml\\Wetter\\Berlin\\df\"\n",
    "    #temp_file = glob.glob(os.path.join(temp_path, \"produkt*\"))\n",
    "    temp_file = glob.glob(os.path.join(temp_path, temp_file))\n",
    "    df_dic = {}\n",
    "    years_of_interest = [2012, 2014, 2016, 2018, 2021]\n",
    "    \n",
    "    for file in temp_file:\n",
    "        df = pd.read_csv(file, delimiter = \";\")\n",
    "        \n",
    "        if football_dataset == True:\n",
    "            df[\"DateTime\"] = df[\"Datum\"] + \" \" + df[\"Uhrzeit (MESZ)\"]\n",
    "\n",
    "            if \"EM\" in file:\n",
    "                df[\"Liga\"] = \"EM\"\n",
    "            elif \"WM\" in file:\n",
    "                df[\"Liga\"] = \"WM\"\n",
    "            \n",
    "            try:\n",
    "                df[\"DateTime\"] = pd.to_datetime(df[column_name], format= date_format[0])\n",
    "            except:\n",
    "                df[\"DateTime\"] = pd.to_datetime(df[column_name], format= date_format[1])\n",
    "        else:\n",
    "            \n",
    "            df[\"DateTime\"] = pd.to_datetime(df[column_name], format= date_format[0])\n",
    "        #print(df)\n",
    "        for year in years_of_interest:\n",
    "            #print(df)\n",
    "            data = df[df[\"DateTime\"].dt.year == year]\n",
    "            data.set_index(\"DateTime\", inplace = True)\n",
    "            \n",
    "            #print(data)\n",
    "            if not data.empty:\n",
    "                df_dic[year] =  df[df[\"DateTime\"].dt.year == year]\n",
    "    \n",
    "    return df_dic\n",
    "\n"
   ]
  },
  {
   "cell_type": "code",
   "execution_count": null,
   "id": "ed60aab2-4387-449f-b641-645c7fe32965",
   "metadata": {},
   "outputs": [],
   "source": []
  },
  {
   "cell_type": "code",
   "execution_count": null,
   "id": "4e80a009-994b-44aa-8965-4e4a809db4f6",
   "metadata": {},
   "outputs": [],
   "source": []
  }
 ],
 "metadata": {
  "kernelspec": {
   "display_name": "Python 3 (ipykernel)",
   "language": "python",
   "name": "python3"
  },
  "language_info": {
   "codemirror_mode": {
    "name": "ipython",
    "version": 3
   },
   "file_extension": ".py",
   "mimetype": "text/x-python",
   "name": "python",
   "nbconvert_exporter": "python",
   "pygments_lexer": "ipython3",
   "version": "3.11.7"
  }
 },
 "nbformat": 4,
 "nbformat_minor": 5
}

{
 "cells": [
  {
   "cell_type": "code",
   "execution_count": 1,
   "id": "ff525534-a2bc-4cf2-aa31-06d07d01b670",
   "metadata": {},
   "outputs": [],
   "source": [
    "import pandas as pd\n",
    "import numpy as np\n",
    "import seaborn as sns\n",
    "import matplotlib.pyplot as plt"
   ]
  },
  {
   "cell_type": "code",
   "execution_count": 1,
   "id": "22b1de73-8af7-484f-8e62-e69abed6466a",
   "metadata": {},
   "outputs": [],
   "source": [
    "def plot_two_lines(first_data, second_data, first_label, second_label, title):\n",
    "    plt.figure(figsize=(12, 6))\n",
    "    plt.plot(y_test_final, label='Actual Values', color='blue', linewidth=2)\n",
    "    plt.plot(y_pred, label='Predicted Values', color='red', linewidth=2, linestyle='--')\n",
    "    plt.title('Actual vs Predicted Values')\n",
    "    plt.legen()\n",
    "    plt.xlabel('Time')\n",
    "    plt.ylabel('Value')"
   ]
  },
  {
   "cell_type": "code",
   "execution_count": null,
   "id": "27ad172c-e070-483f-85ff-35e0693d96ce",
   "metadata": {},
   "outputs": [],
   "source": []
  }
 ],
 "metadata": {
  "kernelspec": {
   "display_name": "Python 3 (ipykernel)",
   "language": "python",
   "name": "python3"
  },
  "language_info": {
   "codemirror_mode": {
    "name": "ipython",
    "version": 3
   },
   "file_extension": ".py",
   "mimetype": "text/x-python",
   "name": "python",
   "nbconvert_exporter": "python",
   "pygments_lexer": "ipython3",
   "version": "3.11.7"
  }
 },
 "nbformat": 4,
 "nbformat_minor": 5
}
